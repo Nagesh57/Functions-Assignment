{
  "nbformat": 4,
  "nbformat_minor": 0,
  "metadata": {
    "colab": {
      "provenance": []
    },
    "kernelspec": {
      "name": "python3",
      "display_name": "Python 3"
    },
    "language_info": {
      "name": "python"
    }
  },
  "cells": [
    {
      "cell_type": "markdown",
      "source": [
        "#Theory Questions"
      ],
      "metadata": {
        "id": "iBaewbkLVtap"
      }
    },
    {
      "cell_type": "markdown",
      "source": [
        "# 1. What is the difference between a function and a method in Python?\n",
        "\n",
        "\"\"\"\n",
        "A function is a block of reusable code that is defined using the `def` keyword and can be called independently.\n",
        "A method is similar to a function but is associated with an object or class.\n",
        "\n",
        "Example:\n",
        "Function:\n",
        "    def greet(name):\n",
        "        return f\"Hello, {name}\"\n",
        "\n",
        "Method:\n",
        "    name = \"Alice\"\n",
        "    print(name.upper())  # upper() is a method of the string object\n",
        "\"\"\"\n",
        "\n",
        "# 2. Explain the concept of function arguments and parameters in Python.\n",
        "\n",
        "\"\"\"\n",
        "Parameters are variables listed in a function’s definition.\n",
        "Arguments are the actual values passed to the function when it is called.\n",
        "\n",
        "Example:\n",
        "    def add(a, b):  # a and b are parameters\n",
        "        return a + b\n",
        "\n",
        "    result = add(5, 10)  # 5 and 10 are arguments\n",
        "\"\"\"\n",
        "\n",
        "# 3. What are the different ways to define and call a function in Python?\n",
        "\n",
        "\"\"\"\n",
        "Functions can be defined using the `def` keyword or lambda expressions.\n",
        "They can be called by their name followed by parentheses and arguments.\n",
        "\n",
        "Example:\n",
        "    def square(x):\n",
        "        return x * x\n",
        "\n",
        "    result = square(4)\n",
        "\n",
        "    # Lambda way\n",
        "    square = lambda x: x * x\n",
        "    result = square(4)\n",
        "\"\"\"\n",
        "\n",
        "# 4. What is the purpose of the `return` statement in a Python function?\n",
        "\n",
        "\"\"\"\n",
        "The `return` statement ends the execution of a function and optionally sends back a value to the caller.\n",
        "\n",
        "Example:\n",
        "    def add(x, y):\n",
        "        return x + y\n",
        "\n",
        "    sum = add(3, 4)  # sum = 7\n",
        "\"\"\"\n",
        "\n",
        "# 5. What are iterators in Python and how do they differ from iterables?\n",
        "\n",
        "\"\"\"\n",
        "Iterables are objects which can return an iterator (like lists, tuples).\n",
        "Iterators are objects with a `__next__()` method and `__iter__()` method.\n",
        "\n",
        "Example:\n",
        "    my_list = [1, 2, 3]\n",
        "    iterator = iter(my_list)\n",
        "\n",
        "    print(next(iterator))  # Output: 1\n",
        "\"\"\"\n",
        "\n",
        "# 6. Explain the concept of generators in Python and how they are defined.\n",
        "\n",
        "\"\"\"\n",
        "Generators are functions that return an iterator using the `yield` statement instead of `return`.\n",
        "They generate values on the fly and are memory-efficient.\n",
        "\n",
        "Example:\n",
        "    def count_up_to(n):\n",
        "        count = 1\n",
        "        while count <= n:\n",
        "            yield count\n",
        "            count += 1\n",
        "\"\"\"\n",
        "\n",
        "# 7. What are the advantages of using generators over regular functions?\n",
        "\n",
        "\"\"\"\n",
        "- Memory efficiency (values generated one by one)\n",
        "- Useful for reading large data\n",
        "- Lazy evaluation (calculates values only when needed)\n",
        "\n",
        "Example:\n",
        "    def squares():\n",
        "        for i in range(1000000):\n",
        "            yield i*i\n",
        "\"\"\"\n",
        "\n",
        "# 8. What is a lambda function in Python and when is it typically used?\n",
        "\n",
        "\"\"\"\n",
        "A lambda function is an anonymous, one-line function.\n",
        "Used when a simple function is needed temporarily, often with `map()`, `filter()`, or `sorted()`.\n",
        "\n",
        "Example:\n",
        "    square = lambda x: x * x\n",
        "    print(square(5))  # Output: 25\n",
        "\"\"\"\n",
        "\n",
        "# 9. Explain the purpose and usage of the `map()` function in Python.\n",
        "\n",
        "\"\"\"\n",
        "`map()` applies a given function to all items in an iterable.\n",
        "\n",
        "Example:\n",
        "    nums = [1, 2, 3, 4]\n",
        "    result = list(map(lambda x: x * 2, nums))  # Output: [2, 4, 6, 8]\n",
        "\"\"\"\n",
        "\n",
        "# 10. What is the difference between `map()`, `reduce()`, and `filter()` functions in Python?\n",
        "\n",
        "\"\"\"\n",
        "- `map()` applies a function to every item in an iterable.\n",
        "- `filter()` filters elements based on a condition.\n",
        "- `reduce()` applies a function cumulatively to reduce iterable to a single value.\n",
        "\n",
        "Example:\n",
        "    from functools import reduce\n",
        "\n",
        "    nums = [1, 2, 3, 4]\n",
        "\n",
        "    # map\n",
        "    double = list(map(lambda x: x * 2, nums))  # [2, 4, 6, 8]\n",
        "\n",
        "    # filter\n",
        "    even = list(filter(lambda x: x % 2 == 0, nums))  # [2, 4]\n",
        "\n",
        "    # reduce\n",
        "    total = reduce(lambda x, y: x + y, nums)  # 10\n",
        "\"\"\"\n",
        "\n",
        "#11. Using pen & Paper write the internal mechanism for sum operation using  reduce function on this given\n",
        "list:[47,11,42,13];\n",
        "\n",
        "\"\"\" Attached paper image for this answer in the below DOC Link\"\"\""
      ],
      "metadata": {
        "id": "_nFnrMRsNT0M"
      }
    },
    {
      "cell_type": "markdown",
      "source": [
        "https://docs.google.com/document/d/1-amNyg1JPZr8nDkla5ibGYd-aCPwKFrs8sXpf_JZTOQ/edit?usp=sharing"
      ],
      "metadata": {
        "id": "FVB50CXwT0J-"
      }
    },
    {
      "cell_type": "markdown",
      "source": [
        "#Practical Questions"
      ],
      "metadata": {
        "id": "yT5Sa36dV14J"
      }
    },
    {
      "cell_type": "code",
      "source": [
        "# Practical Question 1:\n",
        "# Write a Python function that takes a list of numbers as input and returns the sum of all even numbers in the list.\n",
        "\n",
        "def sum_even_numbers(numbers):\n",
        "    return sum(num for num in numbers if num % 2 == 0)\n",
        "\n",
        "# Example usage:\n",
        "print(sum_even_numbers([1, 2, 3, 4, 5, 6]))  # Output: 12"
      ],
      "metadata": {
        "colab": {
          "base_uri": "https://localhost:8080/"
        },
        "id": "S__wm4bjV_8G",
        "outputId": "227e7256-2201-4b66-9a71-21702e2a506d"
      },
      "execution_count": 4,
      "outputs": [
        {
          "output_type": "stream",
          "name": "stdout",
          "text": [
            "12\n"
          ]
        }
      ]
    },
    {
      "cell_type": "code",
      "source": [
        "# Practical Question 2:\n",
        "# Create a Python function that accepts a string and returns the reverse of that string.\n",
        "\n",
        "def reverse_string(text):\n",
        "    return text[::-1]\n",
        "\n",
        "# Example usage:\n",
        "print(reverse_string(\"Python\"))  # Output: nohtyP"
      ],
      "metadata": {
        "colab": {
          "base_uri": "https://localhost:8080/"
        },
        "id": "hM-zwm-PWK2I",
        "outputId": "511a6ecc-cf02-44f3-fd8a-6cabbc1ae98e"
      },
      "execution_count": 5,
      "outputs": [
        {
          "output_type": "stream",
          "name": "stdout",
          "text": [
            "nohtyP\n"
          ]
        }
      ]
    },
    {
      "cell_type": "code",
      "source": [
        "# Practical Question 3:\n",
        "# Implement a Python function that takes a list of integers and returns a new list containing the squares of each number.\n",
        "\n",
        "def square_list(numbers):\n",
        "    return [num ** 2 for num in numbers]\n",
        "\n",
        "# Example usage:\n",
        "print(square_list([1, 2, 3, 4]))  # Output: [1, 4, 9, 16]"
      ],
      "metadata": {
        "colab": {
          "base_uri": "https://localhost:8080/"
        },
        "id": "j_J2IpDvWQMH",
        "outputId": "adad1cc1-ce43-4da6-cb41-4dafdfed57db"
      },
      "execution_count": 6,
      "outputs": [
        {
          "output_type": "stream",
          "name": "stdout",
          "text": [
            "[1, 4, 9, 16]\n"
          ]
        }
      ]
    },
    {
      "cell_type": "code",
      "source": [
        "# Practical Question 4:\n",
        "# Write a Python function that checks if a given number is prime or not from 1 to 200.\n",
        "\n",
        "def is_prime(n):\n",
        "    if n <= 1:\n",
        "        return False\n",
        "    for i in range(2, int(n ** 0.5) + 1):\n",
        "        if n % i == 0:\n",
        "            return False\n",
        "    return True\n",
        "\n",
        "# Printing prime numbers from 1 to 200\n",
        "primes = [num for num in range(1, 201) if is_prime(num)]\n",
        "print(primes)"
      ],
      "metadata": {
        "colab": {
          "base_uri": "https://localhost:8080/"
        },
        "id": "RqdIPGRfWX3-",
        "outputId": "7bcfd568-eb8f-40b0-966d-40f85a27d938"
      },
      "execution_count": 7,
      "outputs": [
        {
          "output_type": "stream",
          "name": "stdout",
          "text": [
            "[2, 3, 5, 7, 11, 13, 17, 19, 23, 29, 31, 37, 41, 43, 47, 53, 59, 61, 67, 71, 73, 79, 83, 89, 97, 101, 103, 107, 109, 113, 127, 131, 137, 139, 149, 151, 157, 163, 167, 173, 179, 181, 191, 193, 197, 199]\n"
          ]
        }
      ]
    },
    {
      "cell_type": "code",
      "source": [
        "# Practical Question 5:\n",
        "# Create an iterator class in Python that generates the Fibonacci sequence up to a specified number of terms.\n",
        "\n",
        "class FibonacciIterator:\n",
        "    def __init__(self, max_terms):\n",
        "        self.max_terms = max_terms\n",
        "        self.a = 0\n",
        "        self.b = 1\n",
        "        self.count = 0\n",
        "\n",
        "    def __iter__(self):\n",
        "        return self\n",
        "\n",
        "    def __next__(self):\n",
        "        if self.count >= self.max_terms:\n",
        "            raise StopIteration\n",
        "        if self.count == 0:\n",
        "            self.count += 1\n",
        "            return 0\n",
        "        elif self.count == 1:\n",
        "            self.count += 1\n",
        "            return 1\n",
        "        else:\n",
        "            self.a, self.b = self.b, self.a + self.b\n",
        "            self.count += 1\n",
        "            return self.b\n",
        "\n",
        "# Example usage:\n",
        "fib = FibonacciIterator(10)\n",
        "for num in fib:\n",
        "    print(num, end=\" \")  # Output: 0 1 1 2 3 5 8 13 21 34"
      ],
      "metadata": {
        "colab": {
          "base_uri": "https://localhost:8080/"
        },
        "id": "I8UVktMqWgCI",
        "outputId": "e5c58656-3fac-4bed-b820-6c4566834992"
      },
      "execution_count": 8,
      "outputs": [
        {
          "output_type": "stream",
          "name": "stdout",
          "text": [
            "0 1 1 2 3 5 8 13 21 34 "
          ]
        }
      ]
    },
    {
      "cell_type": "code",
      "source": [
        "# Practical Question 6:\n",
        "# Write a generator function in Python that yields the powers of 2 up to a given exponent.\n",
        "\n",
        "def powers_of_two(n):\n",
        "    for i in range(n + 1):\n",
        "        yield 2 ** i\n",
        "\n",
        "# Example usage:\n",
        "for val in powers_of_two(5):\n",
        "    print(val)  # Output: 1 2 4 8 16 32"
      ],
      "metadata": {
        "colab": {
          "base_uri": "https://localhost:8080/"
        },
        "id": "-7v38ryVWn8M",
        "outputId": "448ee1e4-ece6-4e95-c148-dbf97c6d38b4"
      },
      "execution_count": 9,
      "outputs": [
        {
          "output_type": "stream",
          "name": "stdout",
          "text": [
            "1\n",
            "2\n",
            "4\n",
            "8\n",
            "16\n",
            "32\n"
          ]
        }
      ]
    },
    {
      "cell_type": "code",
      "source": [
        "# Practical Question 7:\n",
        "# Implement a generator function that reads a file line by line and yields each line as a string.\n",
        "\n",
        "# Using StringIO to simulate file reading\n",
        "from io import StringIO\n",
        "\n",
        "# Sample file content (as a string)\n",
        "sample_text = \"\"\"Hello, this is line 1.\n",
        "This is line 2.\n",
        "And this is line 3.\"\"\"\n",
        "\n",
        "# Simulating a file using StringIO\n",
        "fake_file = StringIO(sample_text)\n",
        "\n",
        "# Generator function\n",
        "def read_file_lines(file_obj):\n",
        "    for line in file_obj:\n",
        "        yield line.strip()\n",
        "\n",
        "# Example usage with output\n",
        "for line in read_file_lines(fake_file):\n",
        "    print(line)\n"
      ],
      "metadata": {
        "colab": {
          "base_uri": "https://localhost:8080/"
        },
        "id": "jSp20YezWqK5",
        "outputId": "627db014-29b5-441c-ef17-8ff18da7fa76"
      },
      "execution_count": 18,
      "outputs": [
        {
          "output_type": "stream",
          "name": "stdout",
          "text": [
            "Hello, this is line 1.\n",
            "This is line 2.\n",
            "And this is line 3.\n"
          ]
        }
      ]
    },
    {
      "cell_type": "code",
      "source": [
        "# Practical Question 8:\n",
        "# Use a lambda function in Python to sort a list of tuples based on the second element of each tuple.\n",
        "\n",
        "data = [(1, 3), (2, 1), (4, 2)]\n",
        "sorted_data = sorted(data, key=lambda x: x[1])\n",
        "print(sorted_data)  # Output: [(2, 1), (4, 2), (1, 3)]"
      ],
      "metadata": {
        "colab": {
          "base_uri": "https://localhost:8080/"
        },
        "id": "h15I5FG4W4gc",
        "outputId": "5cbed613-d88c-4e1a-d724-2e47feec9876"
      },
      "execution_count": 16,
      "outputs": [
        {
          "output_type": "stream",
          "name": "stdout",
          "text": [
            "[(2, 1), (4, 2), (1, 3)]\n"
          ]
        }
      ]
    },
    {
      "cell_type": "code",
      "source": [
        "# Practical Question 9:\n",
        "# Write a Python program that uses map() to convert a list of temperatures from Celsius to Fahrenheit.\n",
        "\n",
        "celsius = [0, 20, 37, 100]\n",
        "fahrenheit = list(map(lambda c: (c * 9/5) + 32, celsius))\n",
        "print(fahrenheit)  # Output: [32.0, 68.0, 98.6, 212.0]"
      ],
      "metadata": {
        "colab": {
          "base_uri": "https://localhost:8080/"
        },
        "id": "vaTFzOBbW6CE",
        "outputId": "386cfeae-f593-4c36-86b7-ea7fdd8cda00"
      },
      "execution_count": 17,
      "outputs": [
        {
          "output_type": "stream",
          "name": "stdout",
          "text": [
            "[32.0, 68.0, 98.6, 212.0]\n"
          ]
        }
      ]
    },
    {
      "cell_type": "code",
      "source": [
        "# Practical Question 10:\n",
        "# Create a Python program that uses filter() to remove all the vowels from a given string.\n",
        "\n",
        "def remove_vowels(s):\n",
        "    vowels = \"aeiouAEIOU\"\n",
        "    return ''.join(filter(lambda char: char not in vowels, s))\n",
        "\n",
        "# Example usage:\n",
        "input_string = \"Hello, this is an example string.\"\n",
        "result = remove_vowels(input_string)\n",
        "print(result)  # Output: Hll, ths s n xmpl strng."
      ],
      "metadata": {
        "colab": {
          "base_uri": "https://localhost:8080/"
        },
        "id": "39Yap5VaW9ci",
        "outputId": "29abc74c-8f39-4d8a-95f7-f2a420787ee7"
      },
      "execution_count": 19,
      "outputs": [
        {
          "output_type": "stream",
          "name": "stdout",
          "text": [
            "Hll, ths s n xmpl strng.\n"
          ]
        }
      ]
    },
    {
      "cell_type": "code",
      "source": [
        "# Practical Question 11:\n",
        "# Write a Python program using lambda and map.\n",
        "# The program returns a list with 2-tuples: (Order Number, Total Amount).\n",
        "# If the total amount < 100, increase it by 10.\n",
        "\n",
        "orders = [\n",
        "    [34587, \"Learning Python, Mark Lutz\", 4, 40.95],\n",
        "    [98762, \"Programming Python, Mark Lutz\", 5, 56.80],\n",
        "    [77226, \"Head First Python, Paul Barry\", 3, 32.95],\n",
        "    [88112, \"Einführung in Python3, Bernd Klein\", 3, 24.99]\n",
        "]\n",
        "\n",
        "# Using map and lambda\n",
        "result = list(map(lambda order:\n",
        "                  (order[0], order[2]*order[3] if order[2]*order[3] >= 100 else order[2]*order[3] + 10),\n",
        "                  orders))\n",
        "\n",
        "print(result)"
      ],
      "metadata": {
        "colab": {
          "base_uri": "https://localhost:8080/"
        },
        "id": "3EH2aJlxY1pz",
        "outputId": "0ba1809d-c6ba-4131-cd51-f375851b45b2"
      },
      "execution_count": 20,
      "outputs": [
        {
          "output_type": "stream",
          "name": "stdout",
          "text": [
            "[(34587, 163.8), (98762, 284.0), (77226, 108.85000000000001), (88112, 84.97)]\n"
          ]
        }
      ]
    }
  ]
}